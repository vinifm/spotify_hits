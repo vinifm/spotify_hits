{
 "cells": [
  {
   "cell_type": "markdown",
   "metadata": {},
   "source": [
    "1. Instalar sqlite: \n",
    "    - a. `sudo apt update`\n",
    "    - b. `sudo apt install sqlite3`"
   ]
  },
  {
   "cell_type": "code",
   "execution_count": 1,
   "metadata": {},
   "outputs": [],
   "source": [
    "import sqlite3\n",
    "import csv\n",
    "def create_db_from_csv(csv_files, db_name):\n",
    "    # Conecta com o banco de dados. Se inexistente, cria-o\n",
    "    conn = sqlite3.connect(db_name)\n",
    "    cur = conn.cursor()\n",
    "\n",
    "    # Iteração nos CSVs\n",
    "    for csv_file in csv_files:\n",
    "        table_name = csv_file.split('.')[0]  # extrai o nome do arquivo\n",
    "        with open(csv_file, 'r', newline='', encoding='utf-8') as f:\n",
    "            reader = csv.reader(f) # transforma cada linha em uma lista\n",
    "            headers = next(reader)  # Retorna a 1a linha e itera para a 2a\n",
    "            column_names = ', '.join(headers)\n",
    "            placeholders = ', '.join('?' * len(headers))\n",
    "            cur.execute(f'CREATE TABLE IF NOT EXISTS {table_name} ({column_names})')\n",
    "            cur.executemany(f'INSERT INTO {table_name} VALUES ({placeholders})', reader)\n",
    "\n",
    "    conn.commit()\n",
    "    conn.close()\n",
    "\n",
    "# Example usage:\n",
    "csv_files = ['top_songs.csv', 'top_songs_features.csv']\n",
    "db_name = 'database.db'\n",
    "\n",
    "create_db_from_csv(csv_files, db_name)\n"
   ]
  },
  {
   "cell_type": "code",
   "execution_count": 4,
   "metadata": {},
   "outputs": [
    {
     "name": "stdout",
     "output_type": "stream",
     "text": [
      "[('Artemas',), ('Hozier',), ('Benson Boone',), ('Djo',), ('Ariana Grande',), ('FloyyMenor',), ('Future',), ('Tate McRae',), ('Teddy Swims',), ('Beyoncé',), ('ILLIT',), ('¥$',), ('Taylor Swift',), ('The Weeknd',), ('Noah Kahan',), ('Feid',), ('Bizarrap',), ('Natanael Cano',), ('Travis Scott',), ('Mitski',), ('Xavi',), ('Dasha',), ('SZA',), ('Xavi',), ('Michael Marcagi',), ('Future',), ('Arctic Monkeys',), ('Myke Towers',), ('Natasha Bedingfield',), ('Tyla',), ('Benson Boone',), ('21 Savage',), ('Tom Odell',), ('Lord Huron',), ('Dua Lipa',), ('Dua Lipa',), ('Zach Bryan',), ('Jung Kook',), ('Ariana Grande',), ('Bad Bunny',), ('Mark Ambor',), ('Peso Pluma',), ('Billie Eilish',), ('J. Cole',), ('The Weeknd',), ('Jack Harlow',), ('Richy Mitch & The Coal Miners',), ('KAROL G',), ('Sabrina Carpenter',), ('Beyoncé',), ('DJ JZ',), ('MC Saci',), ('Mc IG',), ('Jorge & Mateus',), ('Luan Pereira',), ('MC Saci',), ('NATTAN',), ('DENNIS',), ('Dj Lc',), ('Mc IG',), ('Tz da Coronel',), ('Matheus & Kauan',), ('Murilo Huff',), ('Zé Neto & Cristiano',), ('Tropa do Bruxo',), ('TR',), ('Simone Mendes',), ('Ana Castela',), ('Hugo & Guilherme',), ('Oruam',), ('Dj GBR',), ('PEDRO SAMPAIO',), ('AgroPlay',), ('Murilo Huff',), ('Dilsinho',), ('DJ Ws da Igrejinha',), ('Hugo & Guilherme',), ('Lauana Prado',), ('Luan Santana',), ('Manu',), ('MC PH',), ('Manu',), ('Mc IG',), ('MC PH',), ('Simone Mendes',), ('Gustavo Moura & Rafael',), ('Henrique & Juliano',), ('Gusttavo Lima',), ('Ana Castela',), ('Benson Boone',), ('DJ WN',), ('Mc IG',), ('MC Paulin da Capital',), ('TrapLaudo',), ('MC Ryan SP',), ('Parangolé',), ('DJ JOÃO PEREIRA',), ('Mc Ws da leste',), ('Grupo Menos É Mais',), ('Mc Jacaré',), ('Hozier',), ('Benson Boone',), ('Djo',), ('Artemas',), ('Noah Kahan',), ('Ariana Grande',), ('Teddy Swims',), ('Michael Marcagi',), ('Tate McRae',), ('Beyoncé',), ('Taylor Swift',), ('Future',), ('Zach Bryan',), ('Dasha',), ('Jack Harlow',), ('cassö',), ('Good Neighbours',), ('SZA',), ('CYRIL',), ('¥$',), ('Zach Bryan',), ('Benson Boone',), ('Morgan Wallen',), ('Fred again..',), ('Vance Joy',), ('Tyla',), ('Artemas',), ('Olivia Rodrigo',), ('Natasha Bedingfield',), ('Sabrina Carpenter',), ('Mark Ambor',), ('Beyoncé',), ('ILLIT',), ('Dom Dolla',), ('Dua Lipa',), ('The Weeknd',), ('Morgan Wallen',), ('Richy Mitch & The Coal Miners',), ('Bryson Tiller',), ('Travis Scott',), ('Lord Huron',), ('Doja Cat',), ('Dua Lipa',), ('21 Savage',), ('OneRepublic',), ('Taylor Swift',), ('Luke Combs',), ('Zach Bryan',), ('Olivia Rodrigo',), ('Miley Cyrus',), ('Artemas',), ('Benson Boone',), ('Mark Ambor',), ('Hozier',), ('Hava',), ('Djo',), ('CYRIL',), ('Natasha Bedingfield',), ('Beyoncé',), ('01099',), ('Dasha',), ('Bien',), ('Teddy Swims',), ('Tate McRae',), ('cassö',), ('¥$',), ('Jaxomy',), ('BENNETT',), ('Michael Marcagi',), ('$OHO BANI',), ('Ofenbach',), ('Travis Scott',), ('Benson Boone',), ('Dimitri Vegas & Like Mike',), ('Tom Odell',), ('Alok',), ('Ariana Grande',), ('Luciano',), ('Future',), ('Kygo',), ('Artemas',), ('Future',), ('soffie',), ('David Guetta',), ('Pashanim',), ('Luca-Dante Spadafora',), ('Good Neighbours',), ('Richy Mitch & The Coal Miners',), ('FloyyMenor',), ('Rap La Rue',), ('Alex Warren',), ('Noah Kahan',), ('Udo Lindenberg',), ('RAF Camora',), ('Lord Huron',), ('G-Eazy',), ('Macklemore & Ryan Lewis',), ('Don Omar',), ('Future',), ('Bobby Vandamme',), ('FloyyMenor',), ('Tiago PZK',), ('Salastkbron',), ('El Turko',), ('Salastkbron',), ('Luck Ra',), ('Feid',), ('Mesita',), ('TINI',), ('The La Planta',), ('Myke Towers',), ('Luck Ra',), ('Milo j',), ('DJ Tao',), ('Emilia',), ('Emilia',), ('Luck Ra',), ('Emanero',), ('Marka Akme',), ('Luck Ra',), ('LIT killah',), ('Maria Becerra',), ('Omar Varela',), ('ORO600',), ('Maria Becerra',), ('DobleP',), ('Sayian Jimmy',), ('The Academy: Segunda Misión',), ('Airbag',), ('YSY A',), ('Bizarrap',), ('Roze Oficial',), ('Fer Vazquez',), (\"Q' Lokura\",), ('Cris Mj',), ('Mesita',), ('Bizarrap',), ('Gusty dj',), ('Cris Mj',), ('KHEA',), ('Los Ángeles Azules',), ('TINI',), ('Big One',), ('Trueno',), ('Maria Becerra',), ('TWENTY SIX',), ('Big One',), ('Taiu',), ('Rusherking',), ('Ponte Perro',), ('Hozier',), ('Future',), ('Artemas',), ('Benson Boone',), ('¥$',), ('Djo',), ('Ariana Grande',), ('Future',), ('Zach Bryan',), ('Noah Kahan',), ('J. Cole',), ('SZA',), ('Travis Scott',), ('Teddy Swims',), ('Beyoncé',), ('Michael Marcagi',), ('J. Cole',), ('21 Savage',), ('Bryson Tiller',), ('Dasha',), ('Tate McRae',), ('Benson Boone',), ('FloyyMenor',), ('Future',), ('Taylor Swift',), ('Zach Bryan',), ('Morgan Wallen',), ('Sexyy Red',), ('Rich Amiri',), ('Beyoncé',), ('J. Cole',), ('Olivia Rodrigo',), ('Mitski',), ('Chappell Roan',), ('J. Cole',), ('Morgan Wallen',), ('Jack Harlow',), ('J. Cole',), ('BigXthaPlug',), ('GloRilla',), ('Morgan Wallen',), ('Luke Combs',), ('Sabrina Carpenter',), ('Xavi',), ('Richy Mitch & The Coal Miners',), ('Good Neighbours',), ('ILLIT',), ('Xavi',), ('Beyoncé',), ('J. Cole',), ('Natanael Cano',), ('Bizarrap',), ('Xavi',), ('Peso Pluma',), ('FloyyMenor',), ('Bizarrap',), ('Xavi',), ('Fuerza Regida',), ('Junior H',), ('Gabito Ballesteros',), ('Xavi',), ('Calle 24',), ('Julión Álvarez y su Norteño Banda',), ('Junior H',), ('Oscar Maydon',), ('Luis R Conriquez',), ('Feid',), ('Oscar Ortiz',), ('Natanael Cano',), ('Maluma',), ('Fuerza Regida',), ('Natanael Cano',), ('Xavi',), ('Fuerza Regida',), ('Julión Álvarez y su Norteño Banda',), ('Myke Towers',), ('KAROL G',), ('Kali Uchis',), ('Grupo Frontera',), ('Fuerza Regida',), ('Remp',), ('Calle 24',), ('Fuerza Regida',), ('Yahir Saldivar',), ('Shakira',), ('Alex Favela',), ('Bad Bunny',), ('Carin Leon',), ('Peso Pluma',), ('Jere Klein',), ('Christian Nodal',), ('Peso Pluma',), ('Adrian L Santos',), ('Gabito Ballesteros',), ('Carin Leon',), ('Gabito Ballesteros',), ('Alfredo Olivas',), ('Peso Pluma',), ('Peso Pluma',), ('Artemas',), ('FloyyMenor',), ('Lucky Brown',), ('Kidd Voodoo',), ('Pablo Chill-E',), ('Cris Mj',), ('Cris Mj',), ('ITHAN NY',), ('Kidd Voodoo',), ('Kidd Voodoo',), ('Feid',), ('Tiago PZK',), ('Jere Klein',), ('Cris Mj',), ('Myke Towers',), ('Kidd Voodoo',), ('Standly',), ('Kidd Voodoo',), ('Jere Klein',), ('Kidd Voodoo',), ('Katteyes',), ('Lucky Brown',), ('eleven1.1',), ('Engel Montaz',), ('Jere Klein',), ('iZaak',), ('Cris Mj',), ('Jere Klein',), ('Milo j',), ('Sayian Jimmy',), ('Lucky Brown',), ('Renn',), ('KAROL G',), ('Pailita',), ('Mesita',), ('Pablo Chill-E',), ('FloyyMenor',), ('Bad Bunny',), ('Jere Klein',), ('Cris Mj',), ('Maluma',), ('Xavi',), ('KAROL G',), ('Jere Klein',), ('FloyyMenor',), ('Pablo Chill-E',), ('YSY A',), ('Cris Mj',), ('Manuel Turizo',), ('Gino Mella',), ('Kidd Voodoo',), ('Feid',), ('Blessd',), ('Bad Bunny',), ('KAROL G',), ('Xavi',), ('KAROL G',), ('Maluma',), ('Feid',), ('Myke Towers',), ('FloyyMenor',), ('Lenny Tavárez',), ('Feid',), ('Feid',), ('Feid',), ('Manuel Turizo',), ('The Academy: Segunda Misión',), ('KAROL G',), ('Xavi',), ('Feid',), ('Feid',), ('Engel Montaz',), ('Don Omar',), ('Young Miko',), ('Ryan Castro',), ('KAROL G',), ('Calle 24',), ('Ryan Castro',), ('Feid',), ('Carin Leon',), ('Ovy On The Drums',), ('Ozuna',), ('Plan B',), ('KAROL G',), ('KAROL G',), ('KAROL G',), ('Mora',), ('YOVNGCHIMI',), ('Xavi',), ('Feid',), ('Don Omar',), ('KAROL G',), ('Tego Calderón',), ('iZaak',), ('Luis Alfonso',), ('KAROL G',), ('Tony Dize',), ('Dei V',), ('De La Ghetto',), ('The Academy: Segunda Misión',), ('Myke Towers',)]\n"
     ]
    }
   ],
   "source": [
    "conn = sqlite3.connect('database.db')\n",
    "cur = conn.cursor()\n",
    "cur.execute('SELECT artist_name from top_songs')\n",
    "artists = cur.fetchall()\n",
    "print(artists)\n",
    "conn.close()"
   ]
  }
 ],
 "metadata": {
  "kernelspec": {
   "display_name": "spot_venv",
   "language": "python",
   "name": "python3"
  },
  "language_info": {
   "codemirror_mode": {
    "name": "ipython",
    "version": 3
   },
   "file_extension": ".py",
   "mimetype": "text/x-python",
   "name": "python",
   "nbconvert_exporter": "python",
   "pygments_lexer": "ipython3",
   "version": "3.11.2"
  }
 },
 "nbformat": 4,
 "nbformat_minor": 2
}
